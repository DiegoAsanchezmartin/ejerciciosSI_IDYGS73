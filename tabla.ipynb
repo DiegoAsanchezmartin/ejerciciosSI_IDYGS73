{
 "cells": [
  {
   "cell_type": "code",
   "execution_count": 2,
   "id": "458d911f",
   "metadata": {},
   "outputs": [
    {
     "name": "stdout",
     "output_type": "stream",
     "text": [
      "valor inicial: 2\n",
      "Final de las tablas: 4\n",
      "Valor inicial de la multiplicacion: 2\n",
      "Final de la multipicacion: 3\n",
      "2 x 2 = 4\n",
      "2 x 3 = 6\n",
      "3 x 2 = 6\n",
      "3 x 3 = 9\n",
      "4 x 2 = 8\n",
      "4 x 3 = 12\n"
     ]
    }
   ],
   "source": [
    "iniciotab = int (input(\"valor inicial: \"))\n",
    "finaltab = int (input (\"Final de las tablas: \"))\n",
    "iniciomulti = int (input(\"Valor inicial de la multiplicacion: \"))\n",
    "finalmulti = int (input(\"Final de la multipicacion: \"))\n",
    "\n",
    "for multiplicando in range(iniciotab, finaltab + 1):\n",
    "    for multiplicador in range(iniciomulti, finalmulti + 1):\n",
    "        resultado = multiplicando * multiplicador \n",
    "        print(f\"{multiplicando} x {multiplicador} = {resultado}\")\n",
    "        "
   ]
  },
  {
   "cell_type": "code",
   "execution_count": null,
   "id": "64dc5277",
   "metadata": {},
   "outputs": [],
   "source": []
  }
 ],
 "metadata": {
  "kernelspec": {
   "display_name": "Python 3 (ipykernel)",
   "language": "python",
   "name": "python3"
  },
  "language_info": {
   "codemirror_mode": {
    "name": "ipython",
    "version": 3
   },
   "file_extension": ".py",
   "mimetype": "text/x-python",
   "name": "python",
   "nbconvert_exporter": "python",
   "pygments_lexer": "ipython3",
   "version": "3.11.4"
  }
 },
 "nbformat": 4,
 "nbformat_minor": 5
}
