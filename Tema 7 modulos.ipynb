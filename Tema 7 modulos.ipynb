{
 "cells": [
  {
   "cell_type": "code",
   "execution_count": 6,
   "id": "926dff6a",
   "metadata": {
    "scrolled": true
   },
   "outputs": [],
   "source": [
    "import metodos_matematicos"
   ]
  },
  {
   "cell_type": "code",
   "execution_count": 2,
   "id": "7ed0e780",
   "metadata": {
    "scrolled": false
   },
   "outputs": [
    {
     "ename": "SyntaxError",
     "evalue": "invalid syntax (1835748443.py, line 26)",
     "output_type": "error",
     "traceback": [
      "\u001b[1;36m  Cell \u001b[1;32mIn[2], line 26\u001b[1;36m\u001b[0m\n\u001b[1;33m    resultado = operaciones.[opcion](valor1)\u001b[0m\n\u001b[1;37m                            ^\u001b[0m\n\u001b[1;31mSyntaxError\u001b[0m\u001b[1;31m:\u001b[0m invalid syntax\n"
     ]
    }
   ],
   "source": [
    "operaciones = {\n",
    "    '1': metodos_matematicos.suma,\n",
    "    '2': metodos_matematicos.resta,\n",
    "    '3': metodos_matematicos.multiplicacion,\n",
    "    '4': metodos_matematicos.divicion,\n",
    "    '5': metodos_matematicos.potencia\n",
    "}\n",
    "\n",
    "print(\"Selecciona una operación:\")\n",
    "print(\"1. Suma\")\n",
    "print(\"2. Resta\")\n",
    "print(\"3. Multiplicación\")\n",
    "print(\"4. División\")\n",
    "print(\"5. Potencia\")\n",
    "print(\"6. Raíz cuadrada\")\n",
    "\n",
    "opcion = input(\"Ingresa el número de la operación que deseas realizar: \")\n",
    "\n",
    "valor1 = float(input(\"Ingresa el primer valor: \"))\n",
    "    \n",
    "if opcion != '6':\n",
    "    valor2 = float(input(\"Ingresa el segundo valor: \"))\n",
    "\n",
    "if opcion in operaciones:\n",
    "    if opcion == '6':\n",
    "        resultado = operaciones[opcion](valor1)\n",
    "    else:\n",
    "        resultado = operaciones[opcion](valor1, valor2)\n",
    "        print(f\"El resultado de la operación es: {resultado}\")\n",
    "else:\n",
    "        print(\"Operación no válida\")\n"
   ]
  },
  {
   "cell_type": "code",
   "execution_count": null,
   "id": "b36a88ec",
   "metadata": {},
   "outputs": [],
   "source": []
  },
  {
   "cell_type": "code",
   "execution_count": null,
   "id": "506c98e0",
   "metadata": {},
   "outputs": [],
   "source": []
  },
  {
   "cell_type": "code",
   "execution_count": null,
   "id": "ec38f297",
   "metadata": {},
   "outputs": [],
   "source": []
  },
  {
   "cell_type": "code",
   "execution_count": null,
   "id": "131a5b2d",
   "metadata": {},
   "outputs": [],
   "source": []
  },
  {
   "cell_type": "code",
   "execution_count": null,
   "id": "16e8acad",
   "metadata": {},
   "outputs": [],
   "source": []
  },
  {
   "cell_type": "code",
   "execution_count": null,
   "id": "247464e7",
   "metadata": {},
   "outputs": [],
   "source": []
  },
  {
   "cell_type": "code",
   "execution_count": null,
   "id": "c3f81285",
   "metadata": {},
   "outputs": [],
   "source": []
  },
  {
   "cell_type": "code",
   "execution_count": null,
   "id": "d698feee",
   "metadata": {},
   "outputs": [],
   "source": []
  },
  {
   "cell_type": "code",
   "execution_count": null,
   "id": "6a576a61",
   "metadata": {},
   "outputs": [],
   "source": []
  },
  {
   "cell_type": "code",
   "execution_count": null,
   "id": "e1212eb9",
   "metadata": {},
   "outputs": [],
   "source": []
  },
  {
   "cell_type": "code",
   "execution_count": null,
   "id": "c66f9a72",
   "metadata": {},
   "outputs": [],
   "source": []
  },
  {
   "cell_type": "code",
   "execution_count": null,
   "id": "94919210",
   "metadata": {},
   "outputs": [],
   "source": []
  }
 ],
 "metadata": {
  "kernelspec": {
   "display_name": "Python 3 (ipykernel)",
   "language": "python",
   "name": "python3"
  },
  "language_info": {
   "codemirror_mode": {
    "name": "ipython",
    "version": 3
   },
   "file_extension": ".py",
   "mimetype": "text/x-python",
   "name": "python",
   "nbconvert_exporter": "python",
   "pygments_lexer": "ipython3",
   "version": "3.11.4"
  }
 },
 "nbformat": 4,
 "nbformat_minor": 5
}
