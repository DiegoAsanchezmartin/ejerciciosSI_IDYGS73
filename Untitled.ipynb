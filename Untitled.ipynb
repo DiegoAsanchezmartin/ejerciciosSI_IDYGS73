{
 "cells": [
  {
   "cell_type": "markdown",
   "id": "4699a3ca",
   "metadata": {},
   "source": [
    "# Tema 5"
   ]
  },
  {
   "cell_type": "code",
   "execution_count": 7,
   "id": "fc4d024b",
   "metadata": {},
   "outputs": [],
   "source": [
    "# listas\n",
    "frutas = [\"manzana\", \"banana\", \"cereza\"]\n",
    "numeros = [1, 2, 3, 4, 5]\n",
    "mixto = [\"texto\", 123, True, 3.14]\n"
   ]
  },
  {
   "cell_type": "code",
   "execution_count": 8,
   "id": "db937d64",
   "metadata": {},
   "outputs": [
    {
     "name": "stdout",
     "output_type": "stream",
     "text": [
      "manzana\n",
      "uva\n"
     ]
    }
   ],
   "source": [
    "# obtener y modificar\n",
    "\n",
    "\n",
    "print(frutas[0])       # Imprime \"manzana\"\n",
    "frutas[1] = \"uva\"      # Cambia \"banana\" por \"uva\"\n",
    "print(frutas[1])"
   ]
  },
  {
   "cell_type": "code",
   "execution_count": 9,
   "id": "30509b1c",
   "metadata": {},
   "outputs": [
    {
     "name": "stdout",
     "output_type": "stream",
     "text": [
      "rojo\n",
      "verde\n",
      "azul\n"
     ]
    }
   ],
   "source": [
    "#tuplas inmutables\n",
    "colores = (\"rojo\", \"verde\", \"azul\")\n",
    "\n",
    "for color in colores:\n",
    "    print(color)"
   ]
  },
  {
   "cell_type": "code",
   "execution_count": null,
   "id": "cd9063f0",
   "metadata": {},
   "outputs": [],
   "source": [
    "# conjuntos (sets)\n",
    "animales = {\"gato\", \"perro\", \"pez\"}\n",
    "\n",
    "animales.add(\"pájaro\")     # Agrega un elemento\n",
    "animales.remove(\"pez\")     # Elimina un elemento"
   ]
  },
  {
   "cell_type": "code",
   "execution_count": 2,
   "id": "990b1859",
   "metadata": {},
   "outputs": [],
   "source": [
    "# Diccionarios\n",
    "\n",
    "persona = {\n",
    "    \"nombre\": \"Juan\",\n",
    "    \"edad\": 25,\n",
    "    \"ciudad\": \"Madrid\",\n",
    "    \"statura\": 1.80,\n",
    "    \"peso\":80\n",
    "}"
   ]
  },
  {
   "cell_type": "code",
   "execution_count": 4,
   "id": "0413bc8c",
   "metadata": {
    "scrolled": true
   },
   "outputs": [
    {
     "name": "stdout",
     "output_type": "stream",
     "text": [
      "24.691358024691358\n"
     ]
    }
   ],
   "source": [
    "#formula =peso/altura**2\n",
    "\n",
    "def imc (peso,statura):\n",
    "    calculo = peso/statura**2\n",
    "    \n",
    "    return calculo\n",
    "\n",
    "print(imc(persona['peso'], persona['statura']))\n",
    "\n"
   ]
  },
  {
   "cell_type": "code",
   "execution_count": 11,
   "id": "a344d67a",
   "metadata": {
    "scrolled": true
   },
   "outputs": [
    {
     "name": "stdout",
     "output_type": "stream",
     "text": [
      "obeso\n"
     ]
    }
   ],
   "source": [
    " persona = {\n",
    "    \"estatura\" : 1.76,\n",
    "    \"peso\" : 100\n",
    "}\n",
    "\n",
    "def imc(peso, estatura):\n",
    "    return peso/estatura**2\n",
    "\n",
    "personaIMC = imc(persona[\"peso\"], persona[\"estatura\"])\n",
    "    \n",
    "def nivelPeso(personaIMC):\n",
    "    if personaIMC < 18.5 :\n",
    "        print(\"bajo peso\")\n",
    "    elif personaIMC >=18.5 and personaIMC <= 24.9:\n",
    "        print(\"normal\")\n",
    "    elif personaIMC >= 25.0 and personaIMC <=29.9:\n",
    "        print(\"Sobre peso\")\n",
    "    else:\n",
    "        print(\"obeso\")\n",
    "    \n",
    "nivelPeso(personaIMC)"
   ]
  },
  {
   "cell_type": "code",
   "execution_count": null,
   "id": "efd1322a",
   "metadata": {},
   "outputs": [],
   "source": []
  }
 ],
 "metadata": {
  "kernelspec": {
   "display_name": "Python 3 (ipykernel)",
   "language": "python",
   "name": "python3"
  },
  "language_info": {
   "codemirror_mode": {
    "name": "ipython",
    "version": 3
   },
   "file_extension": ".py",
   "mimetype": "text/x-python",
   "name": "python",
   "nbconvert_exporter": "python",
   "pygments_lexer": "ipython3",
   "version": "3.11.4"
  }
 },
 "nbformat": 4,
 "nbformat_minor": 5
}
