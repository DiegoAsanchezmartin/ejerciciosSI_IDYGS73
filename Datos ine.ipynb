{
 "cells": [
  {
   "cell_type": "markdown",
   "id": "e975d570",
   "metadata": {},
   "source": [
    "## Crear un programa que me solicite todos los datos de la ine y que me los almacene en un diccionario posteriormente se van a obtener todos los datos estructurados en un archivo .txt"
   ]
  },
  {
   "cell_type": "code",
   "execution_count": 3,
   "id": "287ded07",
   "metadata": {
    "scrolled": true
   },
   "outputs": [
    {
     "name": "stdout",
     "output_type": "stream",
     "text": [
      "Nombre: diego\n",
      "Apellido Paterno: sanchez\n",
      "Apellido Materno: martin\n",
      "Edad: 27\n",
      "Domicilio: caridad del cobre\n",
      "CURP: 1qfe32wdc\n",
      "datos guardados 'datosine.txt'\n"
     ]
    }
   ],
   "source": [
    "def solicitardatos():\n",
    "    datosine = {}\n",
    "    datosine['nombre'] = input(\"Nombre: \")\n",
    "    datosine['apellidopaterno'] = input(\"Apellido Paterno: \")\n",
    "    datosine['apellidomaterno'] = input(\"Apellido Materno: \")\n",
    "    datosine['edad'] = input(\"Edad: \")\n",
    "    datosine['domicilio'] = input(\"Domicilio: \")\n",
    "    datosine['curp'] = input(\"CURP: \")\n",
    "    return datosine\n",
    "\n",
    "def guardardatos(datos, archivo):\n",
    "    with open(archivo, 'w') as file:\n",
    "        for clave, valor in datos.items():\n",
    "            file.write(f\"{clave}: {valor}\\n\")\n",
    "\n",
    "datosine = solicitardatos()\n",
    "nombrearchivo = \"datosine.txt\"\n",
    "guardardatos(datosine, nombrearchivo)\n",
    "print(f\"datos guardados '{nombrearchivo}'\")\n"
   ]
  },
  {
   "cell_type": "code",
   "execution_count": 6,
   "id": "642a95c0",
   "metadata": {},
   "outputs": [
    {
     "name": "stdout",
     "output_type": "stream",
     "text": [
      "nombre: diego\n",
      "apellidopaterno: sanchez\n",
      "apellidomaterno: martin\n",
      "edad: 27\n",
      "domicilio: caridad del cobre\n",
      "curp: 1qfe32wdc\n",
      "\n"
     ]
    }
   ],
   "source": [
    "leer =  open(\"datosine.txt\", 'r')\n",
    "respuesta = leer.read()\n",
    "print(respuesta)"
   ]
  }
 ],
 "metadata": {
  "kernelspec": {
   "display_name": "Python 3 (ipykernel)",
   "language": "python",
   "name": "python3"
  },
  "language_info": {
   "codemirror_mode": {
    "name": "ipython",
    "version": 3
   },
   "file_extension": ".py",
   "mimetype": "text/x-python",
   "name": "python",
   "nbconvert_exporter": "python",
   "pygments_lexer": "ipython3",
   "version": "3.11.4"
  }
 },
 "nbformat": 4,
 "nbformat_minor": 5
}
